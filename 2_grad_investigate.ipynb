{
 "cells": [
  {
   "cell_type": "code",
   "execution_count": 1,
   "id": "072ea0e8",
   "metadata": {},
   "outputs": [],
   "source": [
    "import torch"
   ]
  },
  {
   "cell_type": "code",
   "execution_count": 2,
   "id": "81292821",
   "metadata": {},
   "outputs": [
    {
     "name": "stdout",
     "output_type": "stream",
     "text": [
      "Input tensor shape: torch.Size([2, 3, 5, 5])\n",
      "First batch, first channel slice:\n",
      "tensor([[[[  1.,   2.,   3.,   4.,   5.],\n",
      "          [  6.,   7.,   8.,   9.,  10.],\n",
      "          [ 11.,  12.,  13.,  14.,  15.],\n",
      "          [ 16.,  17.,  18.,  19.,  20.],\n",
      "          [ 21.,  22.,  23.,  24.,  25.]],\n",
      "\n",
      "         [[ 26.,  27.,  28.,  29.,  30.],\n",
      "          [ 31.,  32.,  33.,  34.,  35.],\n",
      "          [ 36.,  37.,  38.,  39.,  40.],\n",
      "          [ 41.,  42.,  43.,  44.,  45.],\n",
      "          [ 46.,  47.,  48.,  49.,  50.]],\n",
      "\n",
      "         [[ 51.,  52.,  53.,  54.,  55.],\n",
      "          [ 56.,  57.,  58.,  59.,  60.],\n",
      "          [ 61.,  62.,  63.,  64.,  65.],\n",
      "          [ 66.,  67.,  68.,  69.,  70.],\n",
      "          [ 71.,  72.,  73.,  74.,  75.]]],\n",
      "\n",
      "\n",
      "        [[[ 76.,  77.,  78.,  79.,  80.],\n",
      "          [ 81.,  82.,  83.,  84.,  85.],\n",
      "          [ 86.,  87.,  88.,  89.,  90.],\n",
      "          [ 91.,  92.,  93.,  94.,  95.],\n",
      "          [ 96.,  97.,  98.,  99., 100.]],\n",
      "\n",
      "         [[101., 102., 103., 104., 105.],\n",
      "          [106., 107., 108., 109., 110.],\n",
      "          [111., 112., 113., 114., 115.],\n",
      "          [116., 117., 118., 119., 120.],\n",
      "          [121., 122., 123., 124., 125.]],\n",
      "\n",
      "         [[126., 127., 128., 129., 130.],\n",
      "          [131., 132., 133., 134., 135.],\n",
      "          [136., 137., 138., 139., 140.],\n",
      "          [141., 142., 143., 144., 145.],\n",
      "          [146., 147., 148., 149., 150.]]]], grad_fn=<MulBackward0>)\n"
     ]
    }
   ],
   "source": [
    "# Create a 4D tensor with dimensions: [batch_size, channels, height, width]\n",
    "# batch_size=2, channels=3, height=5, width=5\n",
    "input_tensor = torch.ones(2, 3, 5, 5, requires_grad=True)\n",
    "input_tensor = input_tensor * torch.arange(1, input_tensor.numel()+1).reshape(input_tensor.shape)\n",
    "input_tensor.retain_grad()\n",
    "print(\"Input tensor shape:\", input_tensor.shape)\n",
    "print(\"First batch, first channel slice:\")\n",
    "print(input_tensor)"
   ]
  },
  {
   "cell_type": "code",
   "execution_count": 3,
   "id": "d877880a",
   "metadata": {},
   "outputs": [
    {
     "name": "stdout",
     "output_type": "stream",
     "text": [
      "Conv2d(3, 1, kernel_size=(3, 3), stride=(1, 1), bias=False)\n"
     ]
    }
   ],
   "source": [
    "# Create a convolution kernel with shape [out_channels, in_channels, kernel_height, kernel_width]\n",
    "# out_channels=1, in_channels=3, kernel_size=3x3\n",
    "# Create a convolution kernel with shape [out_channels, in_channels, kernel_height, kernel_width]\n",
    "# out_channels=1, in_channels=3, kernel_size=3x3\n",
    "conv_kernel = torch.nn.Parameter(torch.tensor([[\n",
    "    [[-1.0, 0.0, 1.0], [-2.0, 0.0, 2.0], [-1.0, 0.0, 1.0]],  # Channel 1 - horizontal Sobel\n",
    "    [[1.0, 2.0, 1.0], [0.0, 0.0, 0.0], [-1.0, -2.0, -1.0]],  # Channel 2 - vertical Sobel\n",
    "    [[0.0, 1.0, 0.0], [1.0, -4.0, 1.0], [0.0, 1.0, 0.0]]     # Channel 3 - Laplacian\n",
    "]]).float())\n",
    "\n",
    "# Apply convolution using the existing conv_kernel\n",
    "# The kernel has 1 output channels, 3 input channels, and 3x3 spatial dimensions\n",
    "# Create a convolution layer\n",
    "conv = torch.nn.Conv2d(in_channels=3, out_channels=1, kernel_size=3, bias=False)\n",
    "\n",
    "# Set the weights to our existing kernel\n",
    "conv.weight = conv_kernel\n",
    "\n",
    "print(conv)"
   ]
  },
  {
   "cell_type": "code",
   "execution_count": 4,
   "id": "3bcfcd55",
   "metadata": {},
   "outputs": [
    {
     "data": {
      "text/plain": [
       "torch.Size([1, 3, 3, 3])"
      ]
     },
     "execution_count": 4,
     "metadata": {},
     "output_type": "execute_result"
    }
   ],
   "source": [
    "conv.weight.shape"
   ]
  },
  {
   "cell_type": "code",
   "execution_count": 5,
   "id": "8743c04f",
   "metadata": {},
   "outputs": [
    {
     "name": "stdout",
     "output_type": "stream",
     "text": [
      "Convolution output shape: torch.Size([2, 1, 3, 3])\n",
      "First batch, first channel of the output:\n",
      "tensor([[[[-32., -32., -32.],\n",
      "          [-32., -32., -32.],\n",
      "          [-32., -32., -32.]]],\n",
      "\n",
      "\n",
      "        [[[-32., -32., -32.],\n",
      "          [-32., -32., -32.],\n",
      "          [-32., -32., -32.]]]], grad_fn=<ConvolutionBackward0>)\n"
     ]
    }
   ],
   "source": [
    "# Apply the convolution to the input tensor\n",
    "output = conv(input_tensor)\n",
    "\n",
    "print(\"Convolution output shape:\", output.shape)\n",
    "print(\"First batch, first channel of the output:\")\n",
    "print(output)"
   ]
  },
  {
   "cell_type": "code",
   "execution_count": 6,
   "id": "3889b353",
   "metadata": {},
   "outputs": [],
   "source": [
    "grad_tensor = torch.ones_like(output)\n",
    "output.backward(grad_tensor)"
   ]
  },
  {
   "cell_type": "code",
   "execution_count": 7,
   "id": "183eb0f9",
   "metadata": {},
   "outputs": [
    {
     "data": {
      "text/plain": [
       "tensor([[[[ 801.,  819.,  837.],\n",
       "          [ 891.,  909.,  927.],\n",
       "          [ 981.,  999., 1017.]],\n",
       "\n",
       "         [[1251., 1269., 1287.],\n",
       "          [1341., 1359., 1377.],\n",
       "          [1431., 1449., 1467.]],\n",
       "\n",
       "         [[1701., 1719., 1737.],\n",
       "          [1791., 1809., 1827.],\n",
       "          [1881., 1899., 1917.]]]])"
      ]
     },
     "execution_count": 7,
     "metadata": {},
     "output_type": "execute_result"
    }
   ],
   "source": [
    "conv.weight.grad"
   ]
  },
  {
   "cell_type": "code",
   "execution_count": 8,
   "id": "89fc058d",
   "metadata": {},
   "outputs": [
    {
     "data": {
      "text/plain": [
       "tensor([[[[-1., -1.,  0.,  1.,  1.],\n",
       "          [-3., -3.,  0.,  3.,  3.],\n",
       "          [-4., -4.,  0.,  4.,  4.],\n",
       "          [-3., -3.,  0.,  3.,  3.],\n",
       "          [-1., -1.,  0.,  1.,  1.]],\n",
       "\n",
       "         [[ 1.,  3.,  4.,  3.,  1.],\n",
       "          [ 1.,  3.,  4.,  3.,  1.],\n",
       "          [ 0.,  0.,  0.,  0.,  0.],\n",
       "          [-1., -3., -4., -3., -1.],\n",
       "          [-1., -3., -4., -3., -1.]],\n",
       "\n",
       "         [[ 0.,  1.,  1.,  1.,  0.],\n",
       "          [ 1., -2., -1., -2.,  1.],\n",
       "          [ 1., -1.,  0., -1.,  1.],\n",
       "          [ 1., -2., -1., -2.,  1.],\n",
       "          [ 0.,  1.,  1.,  1.,  0.]]],\n",
       "\n",
       "\n",
       "        [[[-1., -1.,  0.,  1.,  1.],\n",
       "          [-3., -3.,  0.,  3.,  3.],\n",
       "          [-4., -4.,  0.,  4.,  4.],\n",
       "          [-3., -3.,  0.,  3.,  3.],\n",
       "          [-1., -1.,  0.,  1.,  1.]],\n",
       "\n",
       "         [[ 1.,  3.,  4.,  3.,  1.],\n",
       "          [ 1.,  3.,  4.,  3.,  1.],\n",
       "          [ 0.,  0.,  0.,  0.,  0.],\n",
       "          [-1., -3., -4., -3., -1.],\n",
       "          [-1., -3., -4., -3., -1.]],\n",
       "\n",
       "         [[ 0.,  1.,  1.,  1.,  0.],\n",
       "          [ 1., -2., -1., -2.,  1.],\n",
       "          [ 1., -1.,  0., -1.,  1.],\n",
       "          [ 1., -2., -1., -2.,  1.],\n",
       "          [ 0.,  1.,  1.,  1.,  0.]]]])"
      ]
     },
     "execution_count": 8,
     "metadata": {},
     "output_type": "execute_result"
    }
   ],
   "source": [
    "input_tensor.grad"
   ]
  }
 ],
 "metadata": {
  "kernelspec": {
   "display_name": "xai",
   "language": "python",
   "name": "python3"
  },
  "language_info": {
   "codemirror_mode": {
    "name": "ipython",
    "version": 3
   },
   "file_extension": ".py",
   "mimetype": "text/x-python",
   "name": "python",
   "nbconvert_exporter": "python",
   "pygments_lexer": "ipython3",
   "version": "3.12.11"
  }
 },
 "nbformat": 4,
 "nbformat_minor": 5
}
